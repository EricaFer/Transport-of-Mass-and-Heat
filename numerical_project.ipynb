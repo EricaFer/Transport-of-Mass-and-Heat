{
 "cells": [
  {
   "cell_type": "markdown",
   "metadata": {},
   "source": [
    "## **Solution of the Unidimensional Equation for Transient Heat**\n",
    "### **Authors:**\n",
    "- Erica Ferreira \n",
    "### **Description:**\n",
    "#### This notebook contains the code for the Numerical Project of the Transport of Heat and Mass subject at the University of Brasília.\n",
    "\n",
    "<hr>"
   ]
  },
  {
   "cell_type": "markdown",
   "metadata": {},
   "source": [
    "### Importing Tools"
   ]
  },
  {
   "cell_type": "code",
   "execution_count": 40,
   "metadata": {},
   "outputs": [],
   "source": [
    "import numpy             as np\n",
    "import matplotlib.pyplot as plt\n",
    "\n",
    "from math import log10, floor"
   ]
  },
  {
   "cell_type": "code",
   "execution_count": 64,
   "metadata": {},
   "outputs": [],
   "source": [
    "def solve_1D_heat_eq_Q1_2(time:float,N:int,L:float,X0:int,X1:int,T0:int)->np.matrix:\n",
    "    ''' Returns the temperature of the bar on N intervals of the bar, \n",
    "    in different points of time (dt intervals) - Questions 1 and 2\n",
    "    \n",
    "    :params time: Time to run the simulation (in seconds)\n",
    "    :params N: Number of intervals of the metal bar\n",
    "    :params L: Length of the metal bar (in meters)\n",
    "    :params X0: Temperature at the beginning of the bar\n",
    "    :params X1: Temperature at the end of the bar\n",
    "    :params T0: Initial temperature of the bar (except the bar tips')\n",
    "    '''\n",
    "\n",
    "    dx = L/N\n",
    "\n",
    "    # rounds dt to get the most significant digit\n",
    "    dt = round(0.2*dx*dx,-int(floor(log10(abs(0.2*dx*dx)))))\n",
    "\n",
    "    number_time_interval = int(time/dt)\n",
    "\n",
    "    temp_matrix = np.zeros((number_time_interval+1,N+1))\n",
    "\n",
    "    # Boundary Conditions - temp_matrix[time,length]\n",
    "    temp_matrix[0,:] = T0\n",
    "    temp_matrix[:,0] = X0\n",
    "    temp_matrix[:,N] = X1\n",
    "\n",
    "    for k in range(1,number_time_interval):\n",
    "\n",
    "        for i in range(1,N):\n",
    "            \n",
    "            temp_matrix[k+1,i] = temp_matrix[k,i] + (dt/(dx*dx)) *(temp_matrix[k,i+1] - 2*temp_matrix[k,i] + temp_matrix[k,i-1])\n",
    "\n",
    "    return temp_matrix"
   ]
  },
  {
   "cell_type": "code",
   "execution_count": null,
   "metadata": {},
   "outputs": [],
   "source": [
    "def solve_1D_heat_eq_Q3(time:float,N:int,L:float,X0:int,X1:int)->np.matrix:\n",
    "    ''' Returns the temperature of the bar on N intervals of the bar, \n",
    "    in different points of time (dt intervals) - Question 3\n",
    "    \n",
    "    :params time: Time to run the simulation (in seconds)\n",
    "    :params N: Number of intervals of the metal bar\n",
    "    :params L: Length of the metal bar (in meters)\n",
    "    :params X0: Temperature at the beginning of the bar\n",
    "    :params X1: Temperature at the end of the bar\n",
    "    '''\n",
    "\n",
    "    dx = L/N\n",
    "\n",
    "    # rounds dt to get the most significant digit\n",
    "    dt = round(0.2*dx*dx,-int(floor(log10(abs(0.2*dx*dx)))))\n",
    "\n",
    "    number_time_interval = int(time/dt)\n",
    "\n",
    "    temp_matrix = np.zeros((number_time_interval+1,N+1))\n",
    "\n",
    "    # Boundary Conditions - temp_matrix[time,length]\n",
    "    temp_matrix[:,0] = X0\n",
    "    temp_matrix[:,N] = X1\n",
    "\n",
    "    for k in range(0,number_time_interval):\n",
    "\n",
    "        for i in range(1,N):\n",
    "            \n",
    "            if k != 0:\n",
    "            \n",
    "                temp_matrix[k+1,i] = temp_matrix[k,i] + (dt/(dx*dx))*(temp_matrix[k,i+1] - 2*temp_matrix[k,i] + temp_matrix[k,i-1])\n",
    "\n",
    "            else:\n",
    "                \n",
    "                temp_matrix[0,i] = np.sin((np.pi*(dx*i))/2)\n",
    "        \n",
    "\n",
    "    return temp_matrix"
   ]
  }
 ],
 "metadata": {
  "kernelspec": {
   "display_name": "Python 3.10.2 64-bit",
   "language": "python",
   "name": "python3"
  },
  "language_info": {
   "codemirror_mode": {
    "name": "ipython",
    "version": 3
   },
   "file_extension": ".py",
   "mimetype": "text/x-python",
   "name": "python",
   "nbconvert_exporter": "python",
   "pygments_lexer": "ipython3",
   "version": "3.10.2"
  },
  "orig_nbformat": 4,
  "vscode": {
   "interpreter": {
    "hash": "9a0cdf84f448366647335ab4dc44bab47d439701884f9aceeef12dc82824af0a"
   }
  }
 },
 "nbformat": 4,
 "nbformat_minor": 2
}
